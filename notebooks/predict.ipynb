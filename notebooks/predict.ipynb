{
 "cells": [
  {
   "cell_type": "code",
   "execution_count": 2,
   "metadata": {},
   "outputs": [],
   "source": [
    "import os\n",
    "import sys\n",
    "import math\n",
    "%matplotlib inline\n",
    "import matplotlib.pyplot as plt\n",
    "import numpy as np\n",
    "import tensorflow as tf\n",
    "import pandas as pd\n",
    "from sklearn.model_selection import train_test_split"
   ]
  },
  {
   "cell_type": "code",
   "execution_count": 5,
   "metadata": {},
   "outputs": [],
   "source": [
    "RANDOM_STATE = 42"
   ]
  },
  {
   "cell_type": "code",
   "execution_count": 1,
   "metadata": {},
   "outputs": [],
   "source": [
    "labels = {'0': 0,\n",
    " '1': 1,\n",
    " '10': 2,\n",
    " '11': 3,\n",
    " '12': 4,\n",
    " '13': 5,\n",
    " '14': 6,\n",
    " '15': 7,\n",
    " '16': 8,\n",
    " '17': 9,\n",
    " '18': 10,\n",
    " '19': 11,\n",
    " '2': 12,\n",
    " '20': 13,\n",
    " '21': 14,\n",
    " '22': 15,\n",
    " '23': 16,\n",
    " '24': 17,\n",
    " '25': 18,\n",
    " '26': 19,\n",
    " '27': 20,\n",
    " '28': 21,\n",
    " '29': 22,\n",
    " '3': 23,\n",
    " '30': 24,\n",
    " '31': 25,\n",
    " '32': 26,\n",
    " '33': 27,\n",
    " '34': 28,\n",
    " '35': 29,\n",
    " '36': 30,\n",
    " '37': 31,\n",
    " '38': 32,\n",
    " '39': 33,\n",
    " '4': 34,\n",
    " '40': 35,\n",
    " '41': 36,\n",
    " '42': 37,\n",
    " '43': 38,\n",
    " '44': 39,\n",
    " '45': 40,\n",
    " '46': 41,\n",
    " '47': 42,\n",
    " '5': 43,\n",
    " '6': 44,\n",
    " '7': 45,\n",
    " '8': 46,\n",
    " '9': 47}"
   ]
  },
  {
   "cell_type": "code",
   "execution_count": 14,
   "metadata": {},
   "outputs": [],
   "source": [
    "labels2 = {0: '0',\n",
    " 1: '1',\n",
    " 2: '10',\n",
    " 3: '11',\n",
    " 4: '12',\n",
    " 5: '13',\n",
    " 6: '14',\n",
    " 7: '15',\n",
    " 8: '16',\n",
    " 9: '17',\n",
    " 10: '18',\n",
    " 11: '19',\n",
    " 12: '2',\n",
    " 13: '20',\n",
    " 14: '21',\n",
    " 15: '22',\n",
    " 16: '23',\n",
    " 17: '24',\n",
    " 18: '25',\n",
    " 19: '26',\n",
    " 20: '27',\n",
    " 21: '28',\n",
    " 22: '29',\n",
    " 23: '3',\n",
    " 24: '30',\n",
    " 25: '31',\n",
    " 26: '32',\n",
    " 27: '33',\n",
    " 28: '34',\n",
    " 29: '35',\n",
    " 30: '36',\n",
    " 31: '37',\n",
    " 32: '38',\n",
    " 33: '39',\n",
    " 34: '4',\n",
    " 35: '40',\n",
    " 36: '41',\n",
    " 37: '42',\n",
    " 38: '43',\n",
    " 39: '44',\n",
    " 40: '45',\n",
    " 41: '46',\n",
    " 42: '47',\n",
    " 43: '5',\n",
    " 44: '6',\n",
    " 45: '7',\n",
    " 46: '8',\n",
    " 47: '9'}"
   ]
  },
  {
   "cell_type": "code",
   "execution_count": 1,
   "metadata": {},
   "outputs": [],
   "source": [
    "## Folder Locations\n",
    "TEST_IMAGE_FOLDER = '../data/raw/Test/testset/'\n",
    "TEST_CSV = '../data/raw/Test/testset.csv'\n",
    "\n",
    "TRAIN_IMAGE_FOLDER = '../data/raw/Train/testset/'\n",
    "TRAIN_CSV = '../data/raw/Train/testset.csv'"
   ]
  },
  {
   "cell_type": "code",
   "execution_count": 3,
   "metadata": {},
   "outputs": [],
   "source": [
    "test_set = pd.read_csv(TEST_CSV)\n",
    "test_set['Label'] = test_set['Label'].apply(str)"
   ]
  },
  {
   "cell_type": "code",
   "execution_count": 6,
   "metadata": {},
   "outputs": [
    {
     "name": "stdout",
     "output_type": "stream",
     "text": [
      "Found 2609 validated image filenames.\n"
     ]
    }
   ],
   "source": [
    "from keras_preprocessing.image import ImageDataGenerator\n",
    "\n",
    "TARGET_SIZE=(224, 224)\n",
    "\n",
    "test_datagen=ImageDataGenerator(rescale=1./255.)\n",
    "test_generator=test_datagen.flow_from_dataframe(\n",
    "dataframe=test_set,\n",
    "directory=TEST_IMAGE_FOLDER,\n",
    "x_col=\"Data\",\n",
    "y_col=None,\n",
    "batch_size=32,\n",
    "seed=RANDOM_STATE,\n",
    "shuffle=False,\n",
    "class_mode=None,\n",
    "target_size=TARGET_SIZE)\n",
    "\n"
   ]
  },
  {
   "cell_type": "code",
   "execution_count": 7,
   "metadata": {},
   "outputs": [],
   "source": [
    "from tensorflow import keras\n",
    "mobnet = keras.models.load_model('./final')"
   ]
  },
  {
   "cell_type": "code",
   "execution_count": 8,
   "metadata": {},
   "outputs": [],
   "source": [
    "def get_image_for_prediction(dataframe):\n",
    "    predict_datagen=ImageDataGenerator(rescale=1./255.)\n",
    "    predict_generator=predict_datagen.flow_from_dataframe(\n",
    "    dataframe=dataframe,\n",
    "    directory=TEST_IMAGE_FOLDER,\n",
    "    x_col=\"Data\",\n",
    "    y_col=None,\n",
    "    batch_size=1,\n",
    "    seed=RANDOM_STATE,\n",
    "    shuffle=False,\n",
    "    class_mode=None,\n",
    "    target_size=TARGET_SIZE)\n",
    "    \n",
    "    return predict_generator"
   ]
  },
  {
   "cell_type": "code",
   "execution_count": 30,
   "metadata": {},
   "outputs": [
    {
     "data": {
      "text/html": [
       "<div>\n",
       "<style scoped>\n",
       "    .dataframe tbody tr th:only-of-type {\n",
       "        vertical-align: middle;\n",
       "    }\n",
       "\n",
       "    .dataframe tbody tr th {\n",
       "        vertical-align: top;\n",
       "    }\n",
       "\n",
       "    .dataframe thead th {\n",
       "        text-align: right;\n",
       "    }\n",
       "</style>\n",
       "<table border=\"1\" class=\"dataframe\">\n",
       "  <thead>\n",
       "    <tr style=\"text-align: right;\">\n",
       "      <th></th>\n",
       "      <th>Data</th>\n",
       "      <th>Label</th>\n",
       "    </tr>\n",
       "  </thead>\n",
       "  <tbody>\n",
       "    <tr>\n",
       "      <th>1000</th>\n",
       "      <td>382868.jpeg</td>\n",
       "      <td>0</td>\n",
       "    </tr>\n",
       "    <tr>\n",
       "      <th>1001</th>\n",
       "      <td>671606.jpeg</td>\n",
       "      <td>0</td>\n",
       "    </tr>\n",
       "    <tr>\n",
       "      <th>1002</th>\n",
       "      <td>268892.jpeg</td>\n",
       "      <td>0</td>\n",
       "    </tr>\n",
       "    <tr>\n",
       "      <th>1003</th>\n",
       "      <td>685934.jpeg</td>\n",
       "      <td>0</td>\n",
       "    </tr>\n",
       "    <tr>\n",
       "      <th>1004</th>\n",
       "      <td>480554.jpeg</td>\n",
       "      <td>0</td>\n",
       "    </tr>\n",
       "    <tr>\n",
       "      <th>1005</th>\n",
       "      <td>160746.jpeg</td>\n",
       "      <td>0</td>\n",
       "    </tr>\n",
       "    <tr>\n",
       "      <th>1006</th>\n",
       "      <td>219006.jpeg</td>\n",
       "      <td>0</td>\n",
       "    </tr>\n",
       "    <tr>\n",
       "      <th>1007</th>\n",
       "      <td>267102.jpeg</td>\n",
       "      <td>0</td>\n",
       "    </tr>\n",
       "    <tr>\n",
       "      <th>1008</th>\n",
       "      <td>607090.jpeg</td>\n",
       "      <td>35</td>\n",
       "    </tr>\n",
       "    <tr>\n",
       "      <th>1009</th>\n",
       "      <td>102349.jpeg</td>\n",
       "      <td>35</td>\n",
       "    </tr>\n",
       "  </tbody>\n",
       "</table>\n",
       "</div>"
      ],
      "text/plain": [
       "             Data Label\n",
       "1000  382868.jpeg     0\n",
       "1001  671606.jpeg     0\n",
       "1002  268892.jpeg     0\n",
       "1003  685934.jpeg     0\n",
       "1004  480554.jpeg     0\n",
       "1005  160746.jpeg     0\n",
       "1006  219006.jpeg     0\n",
       "1007  267102.jpeg     0\n",
       "1008  607090.jpeg    35\n",
       "1009  102349.jpeg    35"
      ]
     },
     "execution_count": 30,
     "metadata": {},
     "output_type": "execute_result"
    }
   ],
   "source": [
    "test_set[1000:1010]"
   ]
  },
  {
   "cell_type": "code",
   "execution_count": 34,
   "metadata": {},
   "outputs": [
    {
     "name": "stdout",
     "output_type": "stream",
     "text": [
      "Found 1 validated image filenames.\n"
     ]
    }
   ],
   "source": [
    "input_image_name = '607090.jpeg'\n",
    "\n",
    "predict_df= test_set[test_set['Data']==input_image_name]\n",
    "\n",
    "predict_data = get_image_for_prediction(predict_df)"
   ]
  },
  {
   "cell_type": "code",
   "execution_count": 35,
   "metadata": {},
   "outputs": [],
   "source": [
    "import tensorflow\n",
    "result = mobnet.predict(predict_data)\n",
    "result = tensorflow.math.argmax(result, 1)"
   ]
  },
  {
   "cell_type": "code",
   "execution_count": 36,
   "metadata": {},
   "outputs": [
    {
     "data": {
      "text/plain": [
       "'35'"
      ]
     },
     "execution_count": 36,
     "metadata": {},
     "output_type": "execute_result"
    }
   ],
   "source": [
    "label = labels2[result.numpy()[0]]\n",
    "label"
   ]
  },
  {
   "cell_type": "code",
   "execution_count": null,
   "metadata": {},
   "outputs": [],
   "source": []
  }
 ],
 "metadata": {
  "kernelspec": {
   "display_name": "Python 3",
   "language": "python",
   "name": "python3"
  },
  "language_info": {
   "codemirror_mode": {
    "name": "ipython",
    "version": 3
   },
   "file_extension": ".py",
   "mimetype": "text/x-python",
   "name": "python",
   "nbconvert_exporter": "python",
   "pygments_lexer": "ipython3",
   "version": "3.7.7"
  }
 },
 "nbformat": 4,
 "nbformat_minor": 4
}
